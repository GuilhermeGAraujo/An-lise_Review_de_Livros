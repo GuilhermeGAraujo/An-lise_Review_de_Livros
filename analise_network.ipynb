{
 "cells": [
  {
   "cell_type": "code",
   "execution_count": 2,
   "metadata": {},
   "outputs": [],
   "source": [
    "import networkx as nx\n",
    "import pandas as pd\n",
    "import ast\n",
    "from pyvis.network import Network\n",
    "import numpy as np\n",
    "from chord import Chord"
   ]
  },
  {
   "cell_type": "code",
   "execution_count": 3,
   "metadata": {},
   "outputs": [],
   "source": [
    "livros_df=pd.read_csv('livros_df.csv',index_col=0)"
   ]
  },
  {
   "cell_type": "code",
   "execution_count": 4,
   "metadata": {},
   "outputs": [],
   "source": [
    "gen =livros_df['Genero'].unique()\n",
    "cores=['#FF0000','#00FFFF','#00FF00','#FF00FF']\n",
    "cor_dict={g:c for g,c in zip(gen,cores)}\n",
    "#Função para criar a network\n",
    "def criar_network(df):\n",
    "    grafo = nx.DiGraph()\n",
    "    livros = df['Titulo']\n",
    "    reviewers_dict = df['Reviewer']\n",
    "    generos=df['Genero']\n",
    "    for livro, (reviewers,genero) in zip(livros,zip(reviewers_dict,generos)):\n",
    "        reviewers = ast.literal_eval(reviewers)\n",
    "        #Defindindo nodes\n",
    "        node_livro =(livro,{'tipo':'Livro','color':cor_dict[genero],'size':30})\n",
    "        reviewer_lst=[(value,{'tipo':'reviewer','id':key,'color':'orange','shape':'triangle','size':30}) for key,value in reviewers.items()]\n",
    "        #Definindo conexões\n",
    "        conexoes = [(node_livro[0],r[0]) for r in reviewer_lst]\n",
    "        #Criando a network\n",
    "        grafo.add_nodes_from([node_livro])\n",
    "        grafo.add_nodes_from(reviewer_lst)\n",
    "        grafo.add_edges_from(conexoes,color='#f1dba1')\n",
    "    return grafo"
   ]
  },
  {
   "cell_type": "markdown",
   "metadata": {},
   "source": [
    "Criando grafo"
   ]
  },
  {
   "cell_type": "code",
   "execution_count": 5,
   "metadata": {},
   "outputs": [],
   "source": [
    "grafo = criar_network(livros_df)\n",
    "#Definindo as autoridades(reviewers) e hubs(livros)\n",
    "hubs_dict, auts_dict = nx.hits(grafo)\n",
    "hubs_lst=[(k,v)for k,v in hubs_dict.items()]\n",
    "aut_lst=[(k,v)for k,v in auts_dict.items()]\n",
    "hubs_sort =sorted(hubs_lst,key=lambda x: x[1],reverse=True)[:20]\n",
    "aut_sort =sorted(aut_lst,key=lambda x: x[1],reverse=True)[:10]\n",
    "hubs=[hub[0] for hub in hubs_sort]\n",
    "auts=[auts[0] for auts in aut_sort]"
   ]
  },
  {
   "cell_type": "markdown",
   "metadata": {},
   "source": [
    "Explorando a network"
   ]
  },
  {
   "cell_type": "code",
   "execution_count": 22,
   "metadata": {},
   "outputs": [
    {
     "name": "stdout",
     "output_type": "stream",
     "text": [
      "\n",
      "      Rules of Civility\n",
      ":273 reviews\n",
      "\n",
      "      The Great Alone\n",
      ":282 reviews\n",
      "\n",
      "      The Immortalists\n",
      ":223 reviews\n",
      "\n",
      "      The Heart's Invisible Furies\n",
      ":282 reviews\n",
      "\n",
      "      The Library Book\n",
      ":290 reviews\n",
      "\n",
      "      The Firebird\n",
      ":267 reviews\n",
      "\n",
      "      Lilac Girls\n",
      ":272 reviews\n",
      "\n",
      "      The Alice Network\n",
      ":289 reviews\n",
      "\n",
      "      The Dutch House\n",
      ":280 reviews\n",
      "\n",
      "      The Paris Wife\n",
      ":278 reviews\n"
     ]
    }
   ],
   "source": [
    "for hub in hubs[:10]:\n",
    "    print(f\"{hub}:{grafo.degree(hub)} reviews\")"
   ]
  },
  {
   "cell_type": "code",
   "execution_count": 21,
   "metadata": {},
   "outputs": [
    {
     "name": "stdout",
     "output_type": "stream",
     "text": [
      "Sarah: 425 reviews\n",
      "Jennifer: 379 reviews\n",
      "Lisa: 362 reviews\n",
      "Laura: 334 reviews\n",
      "Amy: 313 reviews\n",
      "Michelle: 318 reviews\n",
      "Julie: 289 reviews\n",
      "Katie: 282 reviews\n",
      "Emily: 277 reviews\n",
      "Amanda: 277 reviews\n"
     ]
    }
   ],
   "source": [
    "for aut in auts:\n",
    "    print(f\"{aut}: {grafo.degree(aut)} reviews\")"
   ]
  },
  {
   "cell_type": "markdown",
   "metadata": {},
   "source": [
    "Criando subgrafo com apenas as autoridade e hubs reduzindo o tamanho da network para gerar a visualização"
   ]
  },
  {
   "cell_type": "code",
   "execution_count": 17,
   "metadata": {},
   "outputs": [],
   "source": [
    "aut_hub=set(auts+hubs)\n",
    "aut_hub_grafo = grafo.subgraph(aut_hub)"
   ]
  },
  {
   "cell_type": "markdown",
   "metadata": {},
   "source": [
    "Criando visualização da network"
   ]
  },
  {
   "cell_type": "code",
   "execution_count": 18,
   "metadata": {},
   "outputs": [],
   "source": [
    "\n",
    "network = Network(height='80%',width='80%',bgcolor='#222222',font_color='white')\n",
    "network.from_nx(aut_hub_grafo)\n",
    "network.show_buttons(filter_=['physics'])\n",
    "network.barnes_hut()\n",
    "network.show('grafo_aut_hub2.html')"
   ]
  },
  {
   "cell_type": "markdown",
   "metadata": {},
   "source": [
    "Preparando os dados para gráfico de conexões entre os géneros"
   ]
  },
  {
   "cell_type": "code",
   "execution_count": 15,
   "metadata": {},
   "outputs": [],
   "source": [
    "generos = livros_df['Genero'].unique()\n",
    "Fantasy_dic={}\n",
    "Horror_dic={}\n",
    "Hist_Fiction_dic={}\n",
    "Non_Fiction_dic={}\n",
    "dic_dics={'Fantasy':Fantasy_dic,'Horror':Horror_dic,'Historical Fiction':Hist_Fiction_dic,'Non Fiction':Non_Fiction_dic}\n",
    "#Função para agrupar os dicionarios de reviewers de cada gênero\n",
    "def agrupar_reviewers(dic_dics):\n",
    "    for genero in generos:\n",
    "        dic_series = livros_df.Reviewer[livros_df['Genero']==genero].to_list()\n",
    "        for dic in dic_series:\n",
    "            dic= ast.literal_eval(dic)\n",
    "            dic_dics[genero].update(dic)\n",
    "    return dic_dics\n",
    "\n",
    "#Função para calcular quantos reviewer de um genero avaliaram livros de outro genero\n",
    "def conexao_generos(dic,genero):\n",
    "    lista=[]\n",
    "    genero_set = set(dic[genero].keys())\n",
    "    chaves = list(dic.keys())\n",
    "    for chave in chaves:\n",
    "        if chave == genero:\n",
    "            #A interseção seria todo o conjunto, mas para o grafico este valor deve ser 0\n",
    "            lista.append(0)\n",
    "        else:\n",
    "            dic_set=set(dic[chave].keys())\n",
    "            #Agrupar os reviewers que avaliaram livros do genero em questão com os outros generos\n",
    "            intersecao = genero_set.intersection(dic_set)\n",
    "            lista.append(len(intersecao))\n",
    "    return lista"
   ]
  },
  {
   "cell_type": "code",
   "execution_count": 36,
   "metadata": {},
   "outputs": [],
   "source": [
    "grupo_reviewers = agrupar_reviewers(dic_dics)\n",
    "fantasy_con=conexao_generos(grupo_reviewers,'Fantasy')\n",
    "horror_con=conexao_generos(grupo_reviewers,'Horror')\n",
    "hist_fiction_con=conexao_generos(grupo_reviewers,'Historical Fiction')\n",
    "non_fiction_con=conexao_generos(grupo_reviewers,'Non Fiction') \n",
    "#Criando matriz\n",
    "chord_data=[fantasy_con,horror_con,hist_fiction_con,non_fiction_con]"
   ]
  },
  {
   "cell_type": "markdown",
   "metadata": {},
   "source": [
    "Criando Gráfico"
   ]
  },
  {
   "cell_type": "code",
   "execution_count": 45,
   "metadata": {},
   "outputs": [],
   "source": [
    "Chord(chord_data,list(generos)).to_html('conexao_generos.html')"
   ]
  },
  {
   "cell_type": "code",
   "execution_count": 7,
   "metadata": {},
   "outputs": [
    {
     "data": {
      "text/plain": [
       "50226"
      ]
     },
     "execution_count": 7,
     "metadata": {},
     "output_type": "execute_result"
    }
   ],
   "source": [
    "grafo.number_of_nodes()"
   ]
  },
  {
   "cell_type": "code",
   "execution_count": null,
   "metadata": {},
   "outputs": [],
   "source": []
  }
 ],
 "metadata": {
  "kernelspec": {
   "display_name": "Python 3",
   "language": "python",
   "name": "python3"
  },
  "language_info": {
   "codemirror_mode": {
    "name": "ipython",
    "version": 3
   },
   "file_extension": ".py",
   "mimetype": "text/x-python",
   "name": "python",
   "nbconvert_exporter": "python",
   "pygments_lexer": "ipython3",
   "version": "3.8.5"
  }
 },
 "nbformat": 4,
 "nbformat_minor": 4
}
